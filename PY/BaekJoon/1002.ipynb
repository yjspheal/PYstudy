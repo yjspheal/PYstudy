{
 "cells": [
  {
   "cell_type": "markdown",
   "id": "765fbf5a",
   "metadata": {},
   "source": [
    "https://www.acmicpc.net/problem/1002"
   ]
  },
  {
   "cell_type": "code",
   "execution_count": null,
   "id": "950134e3",
   "metadata": {},
   "outputs": [],
   "source": [
    "#1002 터렛\n",
    "from math import sqrt\n",
    "result = []\n",
    "N = int(input())\n",
    "\n",
    "for i in range(N):\n",
    "    x1,y1,r1,x2,y2,r2 = map(int,input().split())\n",
    "\n",
    "    distance = sqrt((x2 - x1) ** 2 + (y2 - y1) ** 2)\n",
    "    marine = r1 + r2\n",
    "    \n",
    "    if distance >= max(r1,r2):\n",
    "        if distance == marine:\n",
    "            result.append(1)\n",
    "        elif distance < marine :\n",
    "            result.append(2)\n",
    "        else:\n",
    "            result.append(0)\n",
    "            \n",
    "    else:\n",
    "        if distance + min(r1,r2) == max(r1,r2):\n",
    "            if distance == 0:\n",
    "                result.append(-1)\n",
    "            else:\n",
    "                result.append(1)\n",
    "        elif distance + min(r1,r2) > max(r1,r2):\n",
    "            result.append(2)\n",
    "        else:\n",
    "            result.append(0)\n",
    "            \n",
    "for r in result:\n",
    "    print(r)"
   ]
  }
 ],
 "metadata": {
  "kernelspec": {
   "display_name": "Python 3 (ipykernel)",
   "language": "python",
   "name": "python3"
  },
  "language_info": {
   "codemirror_mode": {
    "name": "ipython",
    "version": 3
   },
   "file_extension": ".py",
   "mimetype": "text/x-python",
   "name": "python",
   "nbconvert_exporter": "python",
   "pygments_lexer": "ipython3",
   "version": "3.9.7"
  }
 },
 "nbformat": 4,
 "nbformat_minor": 5
}
