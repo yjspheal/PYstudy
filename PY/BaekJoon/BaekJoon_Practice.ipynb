{
 "cells": [
  {
   "cell_type": "code",
   "execution_count": 10,
   "id": "b8391981",
   "metadata": {},
   "outputs": [
    {
     "name": "stdout",
     "output_type": "stream",
     "text": [
      "1000 70 170\n",
      "11\n"
     ]
    }
   ],
   "source": [
    "#1712 손익분기점\n",
    "\n",
    "fixed_p, unfixed_p, final_p = input().split()\n",
    "\n",
    "\n",
    "def find_BEP(fix, unf, fin):\n",
    "    if unf >= fin:\n",
    "        return -1\n",
    "    else:\n",
    "        sales = int(fix / (fin - unf))\n",
    "        while fix + sales*unf - sales*fin >= 0:\n",
    "            sales += 1 \n",
    "        return sales\n",
    "\n",
    "print(find_BEP(int(fixed_p), int(unfixed_p), int(final_p)))"
   ]
  },
  {
   "cell_type": "code",
   "execution_count": 29,
   "id": "53222d56",
   "metadata": {},
   "outputs": [
    {
     "name": "stdout",
     "output_type": "stream",
     "text": [
      "4\n",
      "1 3 5 7\n",
      "3\n"
     ]
    }
   ],
   "source": [
    "#1978 소수 찾기\n",
    "\n",
    "count = int(input())\n",
    "nums = input().split()\n",
    "\n",
    "prime_list = []\n",
    "primecount = 0\n",
    "\n",
    "def find_prime(n):\n",
    "    if n == 1:\n",
    "        return False\n",
    "    \n",
    "    for i in range(2,n):\n",
    "        if n % i == 0:\n",
    "            return False\n",
    "        \n",
    "    return True\n",
    "\n",
    "for i in nums:\n",
    "    if find_prime(int(i)) == True:\n",
    "        primecount += 1\n",
    "        \n",
    "print(primecount)"
   ]
  },
  {
   "cell_type": "code",
   "execution_count": 38,
   "id": "f31418f5",
   "metadata": {},
   "outputs": [
    {
     "name": "stdout",
     "output_type": "stream",
     "text": [
      "60\n",
      "100\n",
      "620\n",
      "61\n"
     ]
    }
   ],
   "source": [
    "#2581 소수\n",
    "\n",
    "n1 = int(input())\n",
    "n2 = int(input())\n",
    "\n",
    "prime_list = []\n",
    "\n",
    "def find_prime(n):\n",
    "    if n == 1:\n",
    "        return False\n",
    "    \n",
    "    for i in range(2,n):\n",
    "        if n % i == 0:\n",
    "            return False\n",
    "        \n",
    "    return True\n",
    "\n",
    "for i in range(n1, n2 + 1):\n",
    "    if find_prime(i) == True:\n",
    "        prime_list.append(i)\n",
    "\n",
    "if prime_list == []:\n",
    "    print(-1)\n",
    "else:\n",
    "    print(sum(prime_list))\n",
    "    print(prime_list[0])\n"
   ]
  },
  {
   "cell_type": "code",
   "execution_count": 46,
   "id": "5e88fcef",
   "metadata": {},
   "outputs": [
    {
     "name": "stdout",
     "output_type": "stream",
     "text": [
      "3 1\n",
      "1 0\n",
      "2 0\n"
     ]
    }
   ],
   "source": [
    "#15649 N과 M(1)\n",
    "\n",
    "row, col = map(int, input().split())\n",
    "\n",
    "while True:\n",
    "    mix = []\n",
    "    for i in range(col):\n",
    "        for k in range(1,row+1):\n",
    "            \n",
    "            "
   ]
  },
  {
   "cell_type": "code",
   "execution_count": 45,
   "id": "894c6759",
   "metadata": {},
   "outputs": [
    {
     "ename": "TypeError",
     "evalue": "unsupported operand type(s) for +: 'range' and 'int'",
     "output_type": "error",
     "traceback": [
      "\u001b[1;31m---------------------------------------------------------------------------\u001b[0m",
      "\u001b[1;31mTypeError\u001b[0m                                 Traceback (most recent call last)",
      "\u001b[1;32m~\\AppData\\Local\\Temp/ipykernel_34164/2433714857.py\u001b[0m in \u001b[0;36m<module>\u001b[1;34m\u001b[0m\n\u001b[1;32m----> 1\u001b[1;33m \u001b[0mprint\u001b[0m\u001b[1;33m(\u001b[0m\u001b[0mrange\u001b[0m\u001b[1;33m(\u001b[0m\u001b[1;36m4\u001b[0m\u001b[1;33m)\u001b[0m\u001b[1;33m+\u001b[0m\u001b[1;36m1\u001b[0m\u001b[1;33m)\u001b[0m\u001b[1;33m\u001b[0m\u001b[1;33m\u001b[0m\u001b[0m\n\u001b[0m",
      "\u001b[1;31mTypeError\u001b[0m: unsupported operand type(s) for +: 'range' and 'int'"
     ]
    }
   ],
   "source": []
  },
  {
   "cell_type": "code",
   "execution_count": null,
   "id": "10a165dd",
   "metadata": {},
   "outputs": [],
   "source": []
  }
 ],
 "metadata": {
  "kernelspec": {
   "display_name": "Python 3 (ipykernel)",
   "language": "python",
   "name": "python3"
  },
  "language_info": {
   "codemirror_mode": {
    "name": "ipython",
    "version": 3
   },
   "file_extension": ".py",
   "mimetype": "text/x-python",
   "name": "python",
   "nbconvert_exporter": "python",
   "pygments_lexer": "ipython3",
   "version": "3.9.7"
  }
 },
 "nbformat": 4,
 "nbformat_minor": 5
}
