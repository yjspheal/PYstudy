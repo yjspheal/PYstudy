{
 "cells": [
  {
   "cell_type": "code",
   "execution_count": 49,
   "metadata": {},
   "outputs": [
    {
     "name": "stdout",
     "output_type": "stream",
     "text": [
      "Overwriting year.py\n"
     ]
    }
   ],
   "source": [
    "%%writefile year.py\n",
    "def input_date():\n",
    "    Y=int(input(\"_년도를 입력하시오:\"))\n",
    "    M=int(input(\"_월을 입력하시오:\"))\n",
    "    D=int(input(\"_일을 입력하시오:\"))\n",
    "    return Y,M,D\n",
    "\n",
    "def is_leap(n):\n",
    "    if n%400==0:\n",
    "        return True\n",
    "    elif n%100==0:\n",
    "        return False\n",
    "    elif n%4==0:\n",
    "        return True\n",
    "    else:\n",
    "        return False\n",
    "    \n",
    "def get_day_name(year,month,day):\n",
    "    daylist=['월요일','화요일','수요일','목요일','금요일','토요일','일요일']\n",
    "    a=0\n",
    "    for i in range (1,year):\n",
    "        if is_leap(i)==True:\n",
    "            a+=366\n",
    "        else:\n",
    "            a+=365\n",
    "    for k in range(1,month):\n",
    "        if  k==1 or k==3 or k==5 or k==7 or k==8 or k==10:\n",
    "            a+=31\n",
    "        elif k==4 or k==6 or k==9 or k==11:\n",
    "            a+=30\n",
    "        else:\n",
    "            if is_leap(year)==True:\n",
    "                a+=29\n",
    "            else:\n",
    "                a+=28\n",
    "    a+=day\n",
    "    return daylist[int((a%7)-1)]\n",
    "\n",
    "if __name__==\"__main__\":\n",
    "    year, month, day=input_date()\n",
    "    day_name = get_day_name(year, month, day)\n",
    "    print(day_name)\n",
    "    if is_leap(year)==True:\n",
    "        print(\"입력하신 %s은 윤년입니다\"%year)"
   ]
  },
  {
   "cell_type": "code",
   "execution_count": 50,
   "metadata": {},
   "outputs": [
    {
     "name": "stdout",
     "output_type": "stream",
     "text": [
      "_년도를 입력하시오:2020\n",
      "_월을 입력하시오:4\n",
      "_일을 입력하시오:8\n",
      "수요일\n",
      "입력하신 2020은 윤년입니다\n"
     ]
    }
   ],
   "source": [
    "%run year.py"
   ]
  },
  {
   "cell_type": "code",
   "execution_count": null,
   "metadata": {},
   "outputs": [],
   "source": []
  }
 ],
 "metadata": {
  "kernelspec": {
   "display_name": "Python 3",
   "language": "python",
   "name": "python3"
  },
  "language_info": {
   "codemirror_mode": {
    "name": "ipython",
    "version": 3
   },
   "file_extension": ".py",
   "mimetype": "text/x-python",
   "name": "python",
   "nbconvert_exporter": "python",
   "pygments_lexer": "ipython3",
   "version": "3.7.6"
  }
 },
 "nbformat": 4,
 "nbformat_minor": 4
}
