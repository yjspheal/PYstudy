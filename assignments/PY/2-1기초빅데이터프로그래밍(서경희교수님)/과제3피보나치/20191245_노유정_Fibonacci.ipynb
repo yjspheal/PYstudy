{
 "cells": [
  {
   "cell_type": "code",
   "execution_count": 4,
   "metadata": {},
   "outputs": [
    {
     "name": "stdout",
     "output_type": "stream",
     "text": [
      "Overwriting fibona.py\n"
     ]
    }
   ],
   "source": [
    "%%writefile fibona.py\n",
    "def fibo(n):\n",
    "    F=[0,1]\n",
    "    for i in range(0,n-1):\n",
    "        F.append(F[i]+F[i+1])\n",
    "    return F[n]"
   ]
  },
  {
   "cell_type": "code",
   "execution_count": 5,
   "metadata": {},
   "outputs": [
    {
     "name": "stdout",
     "output_type": "stream",
     "text": [
      "Overwriting fibonacci.py\n"
     ]
    }
   ],
   "source": [
    "%%writefile fibonacci.py\n",
    "num=int(input(\"input: \"))\n",
    "\n",
    "import fibona\n",
    "n=fibona.fibo(num)\n",
    "\n",
    "print(n)"
   ]
  },
  {
   "cell_type": "code",
   "execution_count": 6,
   "metadata": {},
   "outputs": [
    {
     "name": "stdout",
     "output_type": "stream",
     "text": [
      "input: 10\n",
      "55\n"
     ]
    }
   ],
   "source": [
    "%run fibonacci.py"
   ]
  },
  {
   "cell_type": "code",
   "execution_count": null,
   "metadata": {},
   "outputs": [],
   "source": []
  }
 ],
 "metadata": {
  "kernelspec": {
   "display_name": "Python 3",
   "language": "python",
   "name": "python3"
  },
  "language_info": {
   "codemirror_mode": {
    "name": "ipython",
    "version": 3
   },
   "file_extension": ".py",
   "mimetype": "text/x-python",
   "name": "python",
   "nbconvert_exporter": "python",
   "pygments_lexer": "ipython3",
   "version": "3.7.6"
  }
 },
 "nbformat": 4,
 "nbformat_minor": 4
}
