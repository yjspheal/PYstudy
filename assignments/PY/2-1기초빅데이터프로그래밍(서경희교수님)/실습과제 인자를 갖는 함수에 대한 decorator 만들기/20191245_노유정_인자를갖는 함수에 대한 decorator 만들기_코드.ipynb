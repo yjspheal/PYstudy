{
 "cells": [
  {
   "cell_type": "code",
   "execution_count": 5,
   "metadata": {},
   "outputs": [
    {
     "name": "stdout",
     "output_type": "stream",
     "text": [
      "Initializing Verbose.\n",
      "Program start\n",
      "\n",
      "Begin my_function\n",
      "hello,Mickey!\n",
      "End my_function\n",
      "\n",
      "Begin my_function\n",
      "hello,Minnie!\n",
      "End my_function\n",
      "\n",
      "Begin my_function\n",
      "hello,Donald!\n",
      "End my_function\n"
     ]
    }
   ],
   "source": [
    "class verbose:\n",
    "    def __init__(self,f):\n",
    "        print(\"Initializing Verbose.\")\n",
    "        self.func=f\n",
    "        \n",
    "    def __call__(self,*args,**kwargs):\n",
    "        print(\"\\nBegin\", self.func.__name__)\n",
    "        self.func(*args,**kwargs)\n",
    "        print(\"End\", self.func.__name__)\n",
    "\n",
    "@verbose\n",
    "def my_function(name):\n",
    "    print(\"hello,%s!\"%name)\n",
    "    \n",
    "print(\"Program start\")\n",
    "my_function(\"Mickey\")\n",
    "my_function(\"Minnie\")\n",
    "my_function(\"Donald\")\n"
   ]
  },
  {
   "cell_type": "code",
   "execution_count": null,
   "metadata": {},
   "outputs": [],
   "source": []
  }
 ],
 "metadata": {
  "kernelspec": {
   "display_name": "Python 3",
   "language": "python",
   "name": "python3"
  },
  "language_info": {
   "codemirror_mode": {
    "name": "ipython",
    "version": 3
   },
   "file_extension": ".py",
   "mimetype": "text/x-python",
   "name": "python",
   "nbconvert_exporter": "python",
   "pygments_lexer": "ipython3",
   "version": "3.7.6"
  }
 },
 "nbformat": 4,
 "nbformat_minor": 4
}
