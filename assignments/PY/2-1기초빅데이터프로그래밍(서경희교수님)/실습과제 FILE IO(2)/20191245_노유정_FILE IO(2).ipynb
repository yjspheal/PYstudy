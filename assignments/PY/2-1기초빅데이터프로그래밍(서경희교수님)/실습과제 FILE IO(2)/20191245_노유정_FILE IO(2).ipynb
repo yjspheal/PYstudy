{
 "cells": [
  {
   "cell_type": "code",
   "execution_count": 1,
   "metadata": {},
   "outputs": [],
   "source": [
    "fp=open('information.txt','w',encoding='cp949')\n",
    "fp.write('3\\n')\n",
    "fp.write('3.14\\n')\n",
    "fp.write('\\\"3.14\\\"')\n",
    "fp.close()"
   ]
  },
  {
   "cell_type": "code",
   "execution_count": 2,
   "metadata": {},
   "outputs": [
    {
     "name": "stdout",
     "output_type": "stream",
     "text": [
      "3\n",
      "3.14\n",
      "\"3.14\"\n"
     ]
    }
   ],
   "source": [
    "if __name__==\"__main__\":\n",
    "    with open('information.txt',encoding='cp949') as fp:\n",
    "        lns=fp.readlines()\n",
    "        \n",
    "        for ln in lns:\n",
    "            print(ln.strip())"
   ]
  },
  {
   "cell_type": "code",
   "execution_count": 3,
   "metadata": {},
   "outputs": [],
   "source": [
    "import pickle\n",
    "ft=open('information.dat','wb')\n",
    "pickle.dump('3',ft)\n",
    "pickle.dump('3.14',ft)\n",
    "pickle.dump('\\\"3.14\\\"',ft)\n",
    "ft.close()"
   ]
  },
  {
   "cell_type": "code",
   "execution_count": 4,
   "metadata": {},
   "outputs": [
    {
     "name": "stdout",
     "output_type": "stream",
     "text": [
      "3\n",
      "3.14\n",
      "\"3.14\"\n"
     ]
    }
   ],
   "source": [
    "import pickle\n",
    "if __name__==\"__main__\":\n",
    "    ft=open('information.dat','rb')\n",
    "    while True:\n",
    "        try:\n",
    "            print(pickle.load(ft))\n",
    "        except:\n",
    "            break\n",
    "    ft.close()"
   ]
  },
  {
   "cell_type": "code",
   "execution_count": null,
   "metadata": {},
   "outputs": [],
   "source": []
  }
 ],
 "metadata": {
  "kernelspec": {
   "display_name": "Python 3",
   "language": "python",
   "name": "python3"
  },
  "language_info": {
   "codemirror_mode": {
    "name": "ipython",
    "version": 3
   },
   "file_extension": ".py",
   "mimetype": "text/x-python",
   "name": "python",
   "nbconvert_exporter": "python",
   "pygments_lexer": "ipython3",
   "version": "3.7.6"
  }
 },
 "nbformat": 4,
 "nbformat_minor": 4
}
